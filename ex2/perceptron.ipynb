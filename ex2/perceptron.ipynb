{
 "cells": [
  {
   "cell_type": "code",
   "execution_count": 1,
   "metadata": {
    "collapsed": false
   },
   "outputs": [],
   "source": [
    "from abc import ABC, abstractmethod\n",
    "import numpy as np\n",
    "\n",
    "class Perceptron(ABC):\n",
    "    \"\"\" Base class for our perceptrons.\n",
    "    \"\"\"\n",
    "    def __init__(self, lr=0.5, epochs=100):\n",
    "        \"\"\" Constructor. \"\"\"\n",
    "        self.learning_rate = lr\n",
    "        self.epochs = epochs\n",
    "        self.weights = None\n",
    "    def evaluate(self, X, y):\n",
    "        \"\"\" Get prediction accuracy against a test set. \"\"\"\n",
    "        predictions = self.predict(X)\n",
    "        return np.count_nonzero(predictions == y) / y.shape[0]\n",
    "    def predict(self, X):\n",
    "        \"\"\" Predict labels for a list of inputs. \"\"\"\n",
    "        predictions = []\n",
    "        for x in X:\n",
    "            prediction = 0 if np.dot(self.weights, x) < 0 else 1\n",
    "            predictions.append(prediction)\n",
    "        return np.array(predictions)\n",
    "    @abstractmethod\n",
    "    def fit(self):\n",
    "        \"\"\" Abstract training method. \"\"\"\n",
    "        pass"
   ]
  },
  {
   "cell_type": "code",
   "execution_count": 2,
   "metadata": {
    "collapsed": true
   },
   "outputs": [],
   "source": [
    "class SimplePerceptron(Perceptron):\n",
    "    \"\"\" \n",
    "    Simple perceptron. \n",
    "    Extends the abstract class above by implementing fit().\n",
    "    \"\"\"\n",
    "    def fit(self, X, y):\n",
    "        \"\"\" Simple perceptron training. \"\"\"\n",
    "        self.weights = np.random.randn(X.shape[1])\n",
    "        for epoch in range(self.epochs):\n",
    "            # the training data is shuffled every epoch\n",
    "            the_data = list(zip(X, y))\n",
    "            np.random.shuffle(the_data)\n",
    "            for x, label in the_data:\n",
    "                # attempt prediction\n",
    "                prediction = 0 if np.dot(self.weights, x) < 0 else 1\n",
    "                # if the prediction fails, update the weights\n",
    "                if prediction != label:\n",
    "                    update = self.learning_rate * (label - prediction) * x\n",
    "                    self.weights += update"
   ]
  },
  {
   "cell_type": "code",
   "execution_count": 3,
   "metadata": {
    "collapsed": true
   },
   "outputs": [],
   "source": [
    "class AveragedPerceptron(Perceptron):\n",
    "    def fit(self, X, y):\n",
    "        self.weights = np.random.randn(X.shape[1])\n",
    "        step = self.epochs * X.shape[0]\n",
    "        num_iter = self.epochs * X.shape[0]\n",
    "        for epoch in range(self.epochs):\n",
    "            # the training data is shuffled every epoch\n",
    "            the_data = list(zip(X, y))\n",
    "            np.random.shuffle(the_data)\n",
    "            for x, label in the_data:\n",
    "                # attempt prediction\n",
    "                # self.weights *= np.random.randint(low=0, high=2, size=len(self.weights))\n",
    "                prediction = 0 if np.dot(self.weights, x) < 0 else 1\n",
    "                # if the prediction fails, update the weights\n",
    "                if prediction != label:\n",
    "                    update = self.learning_rate * (label - prediction) * x\n",
    "                    self.weights += (step / num_iter) * update\n",
    "                step -= 1"
   ]
  },
  {
   "cell_type": "code",
   "execution_count": 4,
   "metadata": {
    "collapsed": false
   },
   "outputs": [],
   "source": [
    "# the breast cancer dataset\n",
    "from sklearn.datasets import load_breast_cancer\n",
    "data = load_breast_cancer()\n",
    "\n",
    "X = np.array(data['data'])  # data points\n",
    "y = np.array(data['target'])  # labels\n",
    "\n",
    "b = np.ones_like(y)  # bias\n",
    "X = np.column_stack((X, b))  # gets glued to data"
   ]
  },
  {
   "cell_type": "code",
   "execution_count": 5,
   "metadata": {
    "collapsed": false
   },
   "outputs": [
    {
     "name": "stdout",
     "output_type": "stream",
     "text": [
      "averaged: 0.91\n",
      "simple: 0.90\n"
     ]
    }
   ],
   "source": [
    "# x- and y-axis values for plotting\n",
    "xs = []\n",
    "ys_averaged = []  # UNCOMMENT THIS LINE\n",
    "ys_simple = []\n",
    "\n",
    "# stack the data together for shuffling\n",
    "the_data = np.column_stack((X, y))\n",
    "# 50% of the data for training, 50% for testing\n",
    "cutoff = len(the_data) // 2\n",
    "\n",
    "# test these epoch numbers\n",
    "for epochs in range(0, 51, 5):\n",
    "    xs.append(epochs)\n",
    "    scores_averaged = []  # UNCOMMENT THIS LINE\n",
    "    scores_simple = []\n",
    "\n",
    "    # do 10 runs for each epoch\n",
    "    for experiments in range(0, 10):\n",
    "\n",
    "        # prepare training and test data\n",
    "        # the data is randomly shuffled for each experiment\n",
    "        np.random.shuffle(the_data)\n",
    "        X_train = the_data[:cutoff,:-2]\n",
    "        y_train = the_data[:cutoff,-1]\n",
    "        X_test = the_data[cutoff:,:-2]\n",
    "        y_test = the_data[cutoff:,-1]\n",
    "        \n",
    "        # create the perceptrons\n",
    "        averaged_perceptron = AveragedPerceptron(epochs=epochs)  # UNCOMMENT THIS LINE\n",
    "        simple_perceptron = SimplePerceptron(epochs=epochs)\n",
    "        # train the perceptrons with training data\n",
    "        averaged_perceptron.fit(X_train, y_train)  # UNCOMMENT THIS LINE\n",
    "        simple_perceptron.fit(X_train, y_train)\n",
    "        # evaluate the perceptrons against test data\n",
    "        scores_averaged.append(averaged_perceptron.evaluate(X_test, y_test))  # UNCOMMENT THIS LINE\n",
    "        scores_simple.append(simple_perceptron.evaluate(X_test, y_test))\n",
    "\n",
    "    # store the experiment means for plotting\n",
    "    ys_averaged.append(np.mean(scores_averaged))  # UNCOMMENT THIS LINE\n",
    "    ys_simple.append(np.mean(scores_simple))\n",
    "\n",
    "print(\"averaged: {:.2f}\".format(ys_averaged[-1]))  # UNCOMMENT THIS LINE\n",
    "print(\"simple: {:.2f}\".format(ys_simple[-1]))"
   ]
  },
  {
   "cell_type": "code",
   "execution_count": 6,
   "metadata": {
    "collapsed": false,
    "scrolled": true
   },
   "outputs": [
    {
     "data": {
      "image/png": "[encoded data removed]",
      "text/plain": [
       "<matplotlib.figure.Figure at 0x109f3d9e8>"
      ]
     },
     "metadata": {},
     "output_type": "display_data"
    }
   ],
   "source": [
    "%matplotlib inline\n",
    "import matplotlib.pyplot as plt\n",
    "\n",
    "plt.title(\"perceptron\")\n",
    "plt.xlabel(\"epochs\")\n",
    "plt.ylabel(\"accuracy\")\n",
    "plt.ylim(0.4, 1)\n",
    "\n",
    "plt.plot(xs, ys_averaged, label=\"averaged\")  # UNCOMMENT THIS LINE\n",
    "plt.plot(xs, ys_simple, label=\"simple\")\n",
    "plt.legend(loc=4)\n",
    "plt.show()"
   ]
  }
 ],
 "metadata": {
  "anaconda-cloud": {},
  "kernelspec": {
   "display_name": "Python [conda root]",
   "language": "python",
   "name": "conda-root-py"
  },
  "language_info": {
   "codemirror_mode": {
    "name": "ipython",
    "version": 3
   },
   "file_extension": ".py",
   "mimetype": "text/x-python",
   "name": "python",
   "nbconvert_exporter": "python",
   "pygments_lexer": "ipython3",
   "version": "3.5.2"
  }
 },
 "nbformat": 4,
 "nbformat_minor": 1
}
