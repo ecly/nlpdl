{
 "cells": [
  {
   "cell_type": "markdown",
   "metadata": {},
   "source": [
    "## Sentiment Analysis - Feedforward NN with CBOW\n",
    "\n",
    "Extend the following code to use a continuous BOW representation (e.g., sum of embeddings of all words in the sentence) as instance representation. \n",
    "\n",
    "Hint: use `LookupParameters`, see [DyNet reference](https://dynet.readthedocs.io/en/latest/tutorials_notebooks/API.html)"
   ]
  },
  {
   "cell_type": "code",
   "execution_count": null,
   "metadata": {},
   "outputs": [],
   "source": [
    "from collections import defaultdict\n",
    "import time\n",
    "import random\n",
    "import dynet as dy\n",
    "import numpy as np"
   ]
  },
  {
   "cell_type": "code",
   "execution_count": null,
   "metadata": {},
   "outputs": [],
   "source": [
    "# Functions to read in the corpus\n",
    "w2i = defaultdict(lambda: len(w2i))\n",
    "t2i = defaultdict(lambda: len(t2i))\n",
    "UNK = w2i[\"<unk>\"]\n",
    "\n",
    "def read_dataset(filename):\n",
    "    \"\"\"\n",
    "    Read data and covert to indices\n",
    "    \"\"\"\n",
    "    with open(filename, \"r\") as f:\n",
    "        for line in f:\n",
    "            tag, sentence = line.lower().strip().split(\" ||| \")\n",
    "            yield ([w2i[x] for x in sentence.split(\" \")], t2i[tag])"
   ]
  },
  {
   "cell_type": "code",
   "execution_count": null,
   "metadata": {},
   "outputs": [],
   "source": [
    "# Read in the data\n",
    "train = list(read_dataset(\"data/classes/train.txt\"))\n",
    "w2i = defaultdict(lambda: UNK, w2i) # freeze vocab\n",
    "dev = list(read_dataset(\"data/classes/dev.txt\"))\n",
    "\n",
    "vocab_size = max(w2i.values()) + 1 # OOV\n",
    "\n",
    "ntags = len(t2i)\n",
    "print(vocab_size, ntags)"
   ]
  },
  {
   "cell_type": "code",
   "execution_count": null,
   "metadata": {},
   "outputs": [],
   "source": [
    "# print the label of the first instance\n",
    "train[0][1]"
   ]
  },
  {
   "cell_type": "code",
   "execution_count": null,
   "metadata": {},
   "outputs": [],
   "source": [
    "len(train[0][0])"
   ]
  },
  {
   "cell_type": "code",
   "execution_count": null,
   "metadata": {},
   "outputs": [],
   "source": [
    "len(train[1][0])"
   ]
  },
  {
   "cell_type": "code",
   "execution_count": null,
   "metadata": {},
   "outputs": [],
   "source": [
    "# Start DyNet and define trainer\n",
    "model = dy.Model()\n",
    "trainer = dy.SimpleSGDTrainer(model)"
   ]
  },
  {
   "cell_type": "code",
   "execution_count": null,
   "metadata": {},
   "outputs": [],
   "source": [
    "# Define the model\n",
    "EMB_SIZE = 64\n",
    "hidden_size = 100\n",
    "W_emb = None # Word embeddings TODO: instantiate your lookup parameters\n",
    "\n",
    "W1 = model.add_parameters((hidden_size, EMB_SIZE))\n",
    "b1 = model.add_parameters(hidden_size)\n",
    "\n",
    "W_sm = model.add_parameters((ntags, hidden_size))          # Softmax weights\n",
    "b_sm = model.add_parameters((ntags))                      # Softmax bias"
   ]
  },
  {
   "cell_type": "code",
   "execution_count": null,
   "metadata": {},
   "outputs": [],
   "source": [
    "# A function to calculate scores for one value\n",
    "def calc_scores(words):\n",
    "    dy.renew_cg()\n",
    "    word_vecs = None   ## TODO: look up embeddings\n",
    "    cbow = dy.esum(word_vecs) ## sum over the current word embeddings\n",
    "    h = dy.tanh(dy.parameter(W1) * cbow + dy.parameter(b1))\n",
    "    score = dy.parameter(W_sm) * h + dy.parameter(b_sm)\n",
    "    return score"
   ]
  },
  {
   "cell_type": "code",
   "execution_count": null,
   "metadata": {
    "scrolled": false
   },
   "outputs": [],
   "source": [
    "for ITER in range(10):\n",
    "    # Perform training\n",
    "    random.shuffle(train)\n",
    "    train_loss = 0.0\n",
    "    start = time.time()\n",
    "    for words, tag in train:\n",
    "        my_loss = dy.pickneglogsoftmax(calc_scores(words), tag)\n",
    "        train_loss += my_loss.value()\n",
    "        my_loss.backward()\n",
    "        trainer.update()\n",
    "    print(\"iter %r: train loss/sent=%.4f, time=%.2fs\" % (ITER, train_loss/len(train), time.time()-start))\n",
    "    # Perform testing\n",
    "    test_correct = 0.0\n",
    "    for words, tag in dev:\n",
    "        predict = dy.softmax(calc_scores(words)).npvalue().argmax()\n",
    "        if predict == tag:\n",
    "            test_correct += 1\n",
    "    print(\"iter %r: test acc=%.4f\" % (ITER, test_correct/len(dev)))\n"
   ]
  },
  {
   "cell_type": "code",
   "execution_count": null,
   "metadata": {},
   "outputs": [],
   "source": []
  }
 ],
 "metadata": {
  "anaconda-cloud": {},
  "kernelspec": {
   "display_name": "Python 3",
   "language": "python",
   "name": "python3"
  },
  "language_info": {
   "codemirror_mode": {
    "name": "ipython",
    "version": 3
   },
   "file_extension": ".py",
   "mimetype": "text/x-python",
   "name": "python",
   "nbconvert_exporter": "python",
   "pygments_lexer": "ipython3",
   "version": "3.7.0"
  }
 },
 "nbformat": 4,
 "nbformat_minor": 2
}
