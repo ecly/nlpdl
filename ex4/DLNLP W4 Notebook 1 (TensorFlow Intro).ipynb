{
 "cells": [
  {
   "cell_type": "markdown",
   "metadata": {},
   "source": [
    "# DLNLP W4 Notebook 1 (TensorFlow Intro)"
   ]
  },
  {
   "cell_type": "code",
   "execution_count": 2,
   "metadata": {},
   "outputs": [],
   "source": [
    "import numpy as np\n",
    "import tensorflow as tf\n",
    "import matplotlib.pyplot as plt\n",
    "%matplotlib inline"
   ]
  },
  {
   "cell_type": "markdown",
   "metadata": {},
   "source": [
    "# Example of defining and running a simple graph"
   ]
  },
  {
   "cell_type": "code",
   "execution_count": null,
   "metadata": {},
   "outputs": [],
   "source": [
    "# Define a graph\n",
    "x = tf.placeholder(tf.float32, [1])\n",
    "\n",
    "a = tf.Variable(5.0)\n",
    "b = tf.Variable(2.0)\n",
    "c = tf.Variable(-1.0)\n",
    "d = tf.Variable(-1.0)\n",
    "e = tf.Variable(-1.0)\n",
    "\n",
    "y = a*x**4 + b*x**3 + c*x**2 + d*x + e\n",
    "\n",
    "# Make an operation that initializes the variables\n",
    "init = tf.global_variables_initializer()"
   ]
  },
  {
   "cell_type": "code",
   "execution_count": null,
   "metadata": {},
   "outputs": [],
   "source": [
    "# Start a new session\n",
    "with tf.Session() as session:\n",
    "    session.run(init)\n",
    "    x_value = np.array([3])\n",
    "    y_value = session.run(y, feed_dict={x: x_value})\n",
    "    print(\"y =\", y_value, \"for x =\", x_value)"
   ]
  },
  {
   "cell_type": "markdown",
   "metadata": {},
   "source": [
    "We can also find derivatives, e.g. $\\frac{\\mathrm{d}y}{\\mathrm{d}x}$."
   ]
  },
  {
   "cell_type": "code",
   "execution_count": null,
   "metadata": {},
   "outputs": [],
   "source": [
    "dydx = tf.gradients(y, x)"
   ]
  },
  {
   "cell_type": "code",
   "execution_count": null,
   "metadata": {},
   "outputs": [],
   "source": [
    "# Start a new session\n",
    "with tf.Session() as session:\n",
    "    session.run(init)\n",
    "    dydx_value = session.run(dydx, feed_dict={x: x_value})\n",
    "    print(\"dydx =\", dydx_value[0], \"for x =\", x_value)"
   ]
  },
  {
   "cell_type": "markdown",
   "metadata": {},
   "source": [
    "# Example of fitting a polynomial\n",
    "\n",
    "Now lets generate some data"
   ]
  },
  {
   "cell_type": "code",
   "execution_count": null,
   "metadata": {},
   "outputs": [],
   "source": [
    "n = 30\n",
    "X_train = np.linspace(0, 1, n)\n",
    "y_train = np.sin(np.pi*X_train) + np.random.normal(0, 0.05, n)\n",
    "\n",
    "fig, ax = plt.subplots()\n",
    "ax.scatter(X_train, y_train, label=\"Data\")\n",
    "ax.set_xlabel(r'$x$')\n",
    "ax.set_ylabel(r'$y$')\n",
    "ax.legend()\n",
    "plt.show()\n",
    "\n",
    "# And then we reshape the data\n",
    "X_train = X_train[:, np.newaxis]\n",
    "y_train = y_train[:, np.newaxis]"
   ]
  },
  {
   "cell_type": "markdown",
   "metadata": {},
   "source": [
    "We will then fit a polynomial by minimizing the mean squared error.\n",
    "\n",
    "First we define the graph to solve this problem:"
   ]
  },
  {
   "cell_type": "code",
   "execution_count": null,
   "metadata": {},
   "outputs": [],
   "source": [
    "x = tf.placeholder(tf.float32, [None, 1])\n",
    "t = tf.placeholder(tf.float32, [None, 1])\n",
    "\n",
    "a = tf.Variable(0.)\n",
    "b = tf.Variable(0.)\n",
    "c = tf.Variable(0.)\n",
    "\n",
    "y = a*x**2 + b*x + c\n",
    "\n",
    "# Define the loss\n",
    "loss = tf.losses.mean_squared_error(labels=t, predictions=y)\n",
    "\n",
    "# Define the optimizer operation\n",
    "learning_rate = tf.placeholder(tf.float32)\n",
    "optimizer = tf.train.GradientDescentOptimizer(learning_rate = learning_rate).minimize(loss)\n",
    "\n",
    "# Make an operation that initializes the variables\n",
    "init = tf.global_variables_initializer()"
   ]
  },
  {
   "cell_type": "markdown",
   "metadata": {},
   "source": [
    "We run/evaluate the graph:"
   ]
  },
  {
   "cell_type": "code",
   "execution_count": null,
   "metadata": {},
   "outputs": [],
   "source": [
    "# Then we run the session\n",
    "with tf.Session() as session:\n",
    "    # Initialize the values\n",
    "    session.run(init)\n",
    "    \n",
    "    # Training cycle\n",
    "    for epoch in range(1000):\n",
    "        _, loss_value = session.run([optimizer, loss], feed_dict={x: X_train, t: y_train, learning_rate: 0.5})\n",
    "        print(\"Epoch: \", epoch, \"loss =\", loss_value)            \n",
    "            \n",
    "    print(\"Optimization done\")\n",
    "    \n",
    "    # Make predicitons\n",
    "    X_test = np.linspace(0, 1, 1000)[:, np.newaxis]\n",
    "    y_test = session.run(y, feed_dict={x: X_test})"
   ]
  },
  {
   "cell_type": "markdown",
   "metadata": {},
   "source": [
    "Then we plot the fitted polynomial."
   ]
  },
  {
   "cell_type": "code",
   "execution_count": null,
   "metadata": {},
   "outputs": [],
   "source": [
    "fig, ax = plt.subplots()\n",
    "ax.scatter(X_train, y_train, color='C0', label=\"Data\")\n",
    "ax.plot(X_test, y_test, color='C1', label=\"Fitted polynomial\")\n",
    "ax.set_xlabel(r'$x$')\n",
    "ax.set_ylabel(r'$y$')\n",
    "ax.legend()\n",
    "plt.show()"
   ]
  },
  {
   "cell_type": "code",
   "execution_count": null,
   "metadata": {},
   "outputs": [],
   "source": [
    "session.run(a)"
   ]
  },
  {
   "cell_type": "code",
   "execution_count": null,
   "metadata": {},
   "outputs": [],
   "source": []
  }
 ],
 "metadata": {
  "kernelspec": {
   "display_name": "Python 3",
   "language": "python",
   "name": "python3"
  },
  "language_info": {
   "codemirror_mode": {
    "name": "ipython",
    "version": 3
   },
   "file_extension": ".py",
   "mimetype": "text/x-python",
   "name": "python",
   "nbconvert_exporter": "python",
   "pygments_lexer": "ipython3",
   "version": "3.7.0"
  }
 },
 "nbformat": 4,
 "nbformat_minor": 2
}
